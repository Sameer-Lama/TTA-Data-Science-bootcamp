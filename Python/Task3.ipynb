{
 "cells": [
  {
   "cell_type": "code",
   "execution_count": 124,
   "metadata": {},
   "outputs": [
    {
     "name": "stdout",
     "output_type": "stream",
     "text": [
      "Year 0 2000\n",
      "Year 1 1800.0\n",
      "Year 2 1620.0\n",
      "Year 3 1458.0\n",
      "Year 4 1312.2\n",
      "Year 5 1180.98\n",
      "Year 6 1062.882\n"
     ]
    }
   ],
   "source": [
    "bike_price = 2000 # parameter: Original price of bike\n",
    "\n",
    "#This function depreciates the value of a bike every year until its value is greater than £1000.\n",
    "def bike_depreciation(bike_value):\n",
    "    \n",
    "    year = 0\n",
    "    while bike_value > 1000:  \n",
    "        print(\"Year\",year,bike_value) \n",
    "        bike_value *= 0.9 \n",
    "        year = year + 1\n",
    "\n",
    "bike_depreciation(bike_price)\n",
    "  "
   ]
  },
  {
   "cell_type": "code",
   "execution_count": 230,
   "metadata": {},
   "outputs": [
    {
     "name": "stdout",
     "output_type": "stream",
     "text": [
      "Number of vowels in apple = 2\n"
     ]
    }
   ],
   "source": [
    "count_vowel = 0\n",
    "\n",
    "word = input(\"Please enter a word: \")\n",
    "for vowel in word : #for loop iterating through the vowels\n",
    "    if vowel == \"a\" or vowel == \"e\" or vowel == \"i\" or vowel == \"o\" or vowel == \"u\" :\n",
    "        count_vowel = count_vowel + 1 #adding number of vowels\n",
    "\n",
    "print(\"Number of vowels in\",word,\"=\",count_vowel)  # concatenating the word and number of vowels into a string"
   ]
  },
  {
   "cell_type": "code",
   "execution_count": 158,
   "metadata": {},
   "outputs": [
    {
     "name": "stdout",
     "output_type": "stream",
     "text": [
      "The Volume is 10970.645047999998\n"
     ]
    }
   ],
   "source": [
    "def Calc_Volume(num1,num2,num3): # 3 parameters for calcuating volume\n",
    "    volume = num1*num2*num3 \n",
    "    return volume\n",
    "\n",
    "width = float(input('Enter Length')) #user input to calculate volume\n",
    "depth = float(input('Enter Depth'))\n",
    "height = float(input('Enter Height'))\n",
    "\n",
    "if width <= 0 or depth <=0 or height <= 0: # conditions that inputs are not <= 0 \n",
    "    print(\"invalid entry\")\n",
    "else:\n",
    "    print(\"The Volume is\",Calc_Volume(width,depth,height)) \n",
    "\n",
    "\n",
    "\n",
    "    "
   ]
  },
  {
   "cell_type": "code",
   "execution_count": 212,
   "metadata": {},
   "outputs": [
    {
     "name": "stdout",
     "output_type": "stream",
     "text": [
      "Pythagoras Calculator\n",
      "1 - Find the length of a given b and c\n",
      "2 - Find the length of b given a and c\n",
      "3 - Find the length of c given a and b\n",
      "9 - Exit\n",
      "Length of C is 2.8284271247461903\n"
     ]
    }
   ],
   "source": [
    "import math as m #import math\n",
    "\n",
    "def calc_a(b,c): #Formula to calculate a length\n",
    "    a = m.sqrt(c**2 + b**2) \n",
    "    return a              \n",
    "\n",
    "def calc_b(a,c):\n",
    "    b = m.sqrt(c**2 + a**2)#Formula to calculate b length\n",
    "    return b\n",
    "\n",
    "def calc_c(a,b):\n",
    "    c = m.sqrt(a**2 + b**2)#Formula to calculate c length\n",
    "    return c \n",
    "\n",
    "print(\"Pythagoras Calculator\")\n",
    "print(\"1 - Find the length of a given b and c\")\n",
    "print(\"2 - Find the length of b given a and c\")\n",
    "print(\"3 - Find the length of c given a and b\")\n",
    "print(\"9 - Exit\")\n",
    "\n",
    "option = int(input('Select from the following options')) # Select from Menu\n",
    "if option == 1:\n",
    "    b = float(input('Enter B value')) \n",
    "    c = float(input('Enter C value'))\n",
    "    print(\"Length of A is \",calc_a(b,c)) \n",
    "elif option == 2:\n",
    "    a = float(input('Enter A value'))\n",
    "    c = float(input('Enter C value'))\n",
    "    print(\"Length of B is \",calc_b(a,c))\n",
    "elif option == 3:\n",
    "    a = float(input('Enter A value'))\n",
    "    b = float(input('Enter B value'))\n",
    "    print(\"Length of C is\",calc_c(a,b))\n",
    "elif option == 9:\n",
    "    print('Goodbye')\n",
    "else:\n",
    "    print(\"Goodbye\")"
   ]
  }
 ],
 "metadata": {
  "kernelspec": {
   "display_name": "Python 3.10.5 64-bit",
   "language": "python",
   "name": "python3"
  },
  "language_info": {
   "codemirror_mode": {
    "name": "ipython",
    "version": 3
   },
   "file_extension": ".py",
   "mimetype": "text/x-python",
   "name": "python",
   "nbconvert_exporter": "python",
   "pygments_lexer": "ipython3",
   "version": "3.10.5"
  },
  "orig_nbformat": 4,
  "vscode": {
   "interpreter": {
    "hash": "d26ba34ef9bc98adcc21cc0ac6ec1b67004d8fc011bc618e09c05e4d9c21c598"
   }
  }
 },
 "nbformat": 4,
 "nbformat_minor": 2
}
