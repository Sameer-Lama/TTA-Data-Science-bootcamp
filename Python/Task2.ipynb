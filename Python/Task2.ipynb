{
 "cells": [
  {
   "cell_type": "code",
   "execution_count": 5,
   "metadata": {},
   "outputs": [
    {
     "name": "stdout",
     "output_type": "stream",
     "text": [
      "4.0\n"
     ]
    }
   ],
   "source": [
    "num1 = float(input(\"Pick a number\"))\n",
    "op = str(input(\"Pick an operator from +, -, *, /\"))\n",
    "num2 = float(input(\"Pick a second number\"))\n",
    "\n",
    "if op == '+' :\n",
    "    print(num1+num2)\n",
    "elif op == '-' :\n",
    "    print(num1-num2)\n",
    "elif op == '*' :\n",
    "    print(num1*num2)\n",
    "elif op == '/' :\n",
    "    print(num1/num2)\n",
    "else:\n",
    "    print('Invalid operator')\n",
    "\n",
    "\n"
   ]
  },
  {
   "cell_type": "code",
   "execution_count": 1,
   "metadata": {},
   "outputs": [
    {
     "ename": "TypeError",
     "evalue": "'int' object is not callable",
     "output_type": "error",
     "traceback": [
      "\u001b[1;31m---------------------------------------------------------------------------\u001b[0m",
      "\u001b[1;31mTypeError\u001b[0m                                 Traceback (most recent call last)",
      "\u001b[1;32mc:\\Users\\samee\\Desktop\\Data Academy\\Python\\Task2.ipynb Cell 2\u001b[0m in \u001b[0;36m<cell line: 2>\u001b[1;34m()\u001b[0m\n\u001b[0;32m      <a href='vscode-notebook-cell:/c%3A/Users/samee/Desktop/Data%20Academy/Python/Task2.ipynb#W1sZmlsZQ%3D%3D?line=0'>1</a>\u001b[0m num \u001b[39m=\u001b[39m \u001b[39mint\u001b[39m(\u001b[39minput\u001b[39m(\u001b[39m'\u001b[39m\u001b[39mSelect number between 1 and 100: \u001b[39m\u001b[39m'\u001b[39m))\n\u001b[0;32m      <a href='vscode-notebook-cell:/c%3A/Users/samee/Desktop/Data%20Academy/Python/Task2.ipynb#W1sZmlsZQ%3D%3D?line=1'>2</a>\u001b[0m \u001b[39mif\u001b[39;00m  num \u001b[39m<\u001b[39m\u001b[39m=\u001b[39m\u001b[39m30\u001b[39m :\n\u001b[1;32m----> <a href='vscode-notebook-cell:/c%3A/Users/samee/Desktop/Data%20Academy/Python/Task2.ipynb#W1sZmlsZQ%3D%3D?line=2'>3</a>\u001b[0m     num(\u001b[39m\"\u001b[39;49m\u001b[39mHA\u001b[39;49m\u001b[39m\"\u001b[39;49m)\n\u001b[0;32m      <a href='vscode-notebook-cell:/c%3A/Users/samee/Desktop/Data%20Academy/Python/Task2.ipynb#W1sZmlsZQ%3D%3D?line=3'>4</a>\u001b[0m \u001b[39melif\u001b[39;00m \u001b[39minput\u001b[39m \u001b[39m<\u001b[39m\u001b[39m=\u001b[39m\u001b[39m60\u001b[39m :\n\u001b[0;32m      <a href='vscode-notebook-cell:/c%3A/Users/samee/Desktop/Data%20Academy/Python/Task2.ipynb#W1sZmlsZQ%3D%3D?line=4'>5</a>\u001b[0m     num(\u001b[39m\"\u001b[39m\u001b[39mHA HA\u001b[39m\u001b[39m\"\u001b[39m)\n",
      "\u001b[1;31mTypeError\u001b[0m: 'int' object is not callable"
     ]
    }
   ],
   "source": [
    "num = int(input('Select number between 1 and 100: '))\n",
    "if  num <=30 :\n",
    "    num(\"HA\")\n",
    "elif input <=60 :\n",
    "    num(\"HA HA\")\n",
    "elif input <=100 :\n",
    "    num(\"HA HA HA\")\n",
    "else: \n",
    "    ('Wrong input')"
   ]
  },
  {
   "cell_type": "code",
   "execution_count": 50,
   "metadata": {},
   "outputs": [
    {
     "name": "stdout",
     "output_type": "stream",
     "text": [
      "1. Print a main menu:\n",
      "Welcome to Northern Frock\n",
      "1 - Display balance\n",
      "2 - Withdraw funds\n",
      "3 - Deposit funds \n",
      "9 - Return car\n",
      "Select how much to witdraw from the following, \n",
      "1.£10\n",
      "2.£20\n",
      "3.£40\n",
      "4.£60\n",
      "5.80\n",
      "6.£100\n",
      "7.£X\n",
      "You have withdrawn 200 \n",
      "Your balance is now 0\n"
     ]
    }
   ],
   "source": [
    "balance = 200\n",
    "\n",
    "print('1. Print a main menu:\\nWelcome to Northern Frock\\n1 - Display balance\\n2 - Withdraw funds\\n3 - Deposit funds \\n9 - Return card') # Print ATM menu\n",
    "\n",
    "option = int(input('Select from the following options')) # Select view balance, withdraw, deposit or returning card\n",
    "if option == 1:\n",
    "    print('Your balance is,',balance)\n",
    "elif option == 2:\n",
    "    print('Select how much to witdraw from the following, \\n1.£10\\n2.£20\\n3.£40\\n4.£60\\n5.80\\n6.£100\\n7.£X') #Fixed withdraw amounts or specified withdrawl\n",
    "    amount=int(input('Pick an amount to withdraw'))                     \n",
    "    if amount == 1:\n",
    "       print(\"You withdrawn £10. Your new balance is: \", balance - 10)   \n",
    "    elif amount == 2:\n",
    "       print(\"You withdrawn £20. Your new balance is: \",balance - 20)\n",
    "    elif amount == 3:\n",
    "       print(\"You withdrawn £40. Your new balance is: \",balance - 40)\n",
    "    elif amount == 4:\n",
    "       print(\"You withdrawn £60. Your new balance is: \",balance - 60)\n",
    "    elif amount == 5:\n",
    "       print(\"You withdrawn £80. Your new balance is: \",balance - 80)\n",
    "    elif amount == 6:\n",
    "       print(\"You withdrawn £100. Your new balance is: \",balance - 100)\n",
    "    elif amount == 7:\n",
    "        withdraw = int(input('Select Amount to withdraw'))\n",
    "        if withdraw%10!= 0 :  \n",
    "            print('ATM can only print in £10s, please try again')\n",
    "        elif withdraw >balance :\n",
    "            print('Insufficient balance')\n",
    "        else:\n",
    "             print('You have withdrawn',withdraw,'\\nYour balance is now',balance-withdraw)\n",
    "elif option == 3:\n",
    "        deposit = int(input('Select amount to deposit'))\n",
    "        print('You deposited',deposit,'\\nYour balance is now',+deposit+balance)\n",
    "elif option == 9: \n",
    "    print('Goodbye')\n",
    "    option == 9;\n",
    "else: print('try again')\n"
   ]
  },
  {
   "cell_type": "code",
   "execution_count": 11,
   "metadata": {},
   "outputs": [
    {
     "name": "stdout",
     "output_type": "stream",
     "text": [
      "['apple', 'banana', 'mango']\n",
      "banana\n"
     ]
    }
   ],
   "source": [
    "fruits = ['apple',\"banana\",\"mango\"]\n",
    "print(fruits)\n",
    "print(fruits[1])\n",
    "\n"
   ]
  },
  {
   "cell_type": "code",
   "execution_count": 63,
   "metadata": {},
   "outputs": [
    {
     "name": "stdout",
     "output_type": "stream",
     "text": [
      "{'mango', 'apple', 'Pear', 'banana'}\n",
      "{'mango', 'apple', 'Pear', 'banana'}\n"
     ]
    }
   ],
   "source": [
    "fruits = {'apple',\"banana\",\"mango\"}\n",
    "fruits.add('Pear')\n",
    "print(fruits)\n",
    "fruits.add('banana')\n",
    "print(fruits)"
   ]
  },
  {
   "cell_type": "code",
   "execution_count": 83,
   "metadata": {},
   "outputs": [
    {
     "name": "stdout",
     "output_type": "stream",
     "text": [
      "20\n",
      "No\n"
     ]
    }
   ],
   "source": [
    "fruits={}\n",
    "fruits[\"banana\"]= 10\n",
    "fruits[\"apple\"]= 20\n",
    "fruits[\"pear\"]= 30\n",
    "\n",
    "print(fruits[\"apple\"])\n",
    "\n",
    "if \"ginger\" in fruits:\n",
    "    print(fruits[\"apple\"])\n",
    "else:\n",
    "    print(\"No\")"
   ]
  }
 ],
 "metadata": {
  "interpreter": {
   "hash": "d26ba34ef9bc98adcc21cc0ac6ec1b67004d8fc011bc618e09c05e4d9c21c598"
  },
  "kernelspec": {
   "display_name": "Python 3.10.5 64-bit",
   "language": "python",
   "name": "python3"
  },
  "language_info": {
   "codemirror_mode": {
    "name": "ipython",
    "version": 3
   },
   "file_extension": ".py",
   "mimetype": "text/x-python",
   "name": "python",
   "nbconvert_exporter": "python",
   "pygments_lexer": "ipython3",
   "version": "3.10.5"
  },
  "orig_nbformat": 4
 },
 "nbformat": 4,
 "nbformat_minor": 2
}
