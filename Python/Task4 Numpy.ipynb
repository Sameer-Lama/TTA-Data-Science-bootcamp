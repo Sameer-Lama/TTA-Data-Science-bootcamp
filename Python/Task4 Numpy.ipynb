{
 "cells": [
  {
   "cell_type": "code",
   "execution_count": 5,
   "metadata": {},
   "outputs": [
    {
     "name": "stdout",
     "output_type": "stream",
     "text": [
      "[0 1 2 3 4 5 6 7 8 9]\n"
     ]
    }
   ],
   "source": [
    "import numpy as np\n",
    "\n",
    "#1. Create a 1D array of numbers from 0 to 9\n",
    "\n",
    "array = np.arange(0,10) #Print 1-D array\n",
    "print(array)"
   ]
  },
  {
   "cell_type": "code",
   "execution_count": 37,
   "metadata": {},
   "outputs": [
    {
     "name": "stdout",
     "output_type": "stream",
     "text": [
      "[0 1 2 3 4 5 6 7 8 9]\n",
      "\n",
      "[[0 1 2 3 4]\n",
      " [5 6 7 8 9]]\n"
     ]
    }
   ],
   "source": [
    "#2. Convert 1D array into 2D array with 2 rows\n",
    "\n",
    "array = np.array([0,1,2,3,4,5,6,7,8,9]) #CREATES 2-D ARRAY FROM 1-D ARRAY\n",
    "print(array)\n",
    "print(\"\")\n",
    "newarray = array.reshape(2,5) # Creates 2 array with 5 elements each.\n",
    "print(newarray)\n"
   ]
  },
  {
   "cell_type": "code",
   "execution_count": 40,
   "metadata": {},
   "outputs": [
    {
     "name": "stdout",
     "output_type": "stream",
     "text": [
      "[30 31 32 33 34 35 36 37 38 39 40 41 42 43 44 45 46 47 48 49 50 51 52 53\n",
      " 54 55 56 57 58 59 60 61 62 63 64 65 66 67 68 69 70]\n"
     ]
    }
   ],
   "source": [
    "#3. Write a NumPy program to create an array of the integers from 30 to 70.\n",
    "\n",
    "array = np.arange(30,71) #Function arange prints numbers from specified ranges\n",
    "print(array)"
   ]
  },
  {
   "cell_type": "code",
   "execution_count": 57,
   "metadata": {},
   "outputs": [
    {
     "name": "stdout",
     "output_type": "stream",
     "text": [
      "[1 2 3 4 5 6 7 8]\n"
     ]
    }
   ],
   "source": [
    "#4. Write a NumPy program to append values to the end of an array.\n",
    "\n",
    "arr = [1,2,3,4,5] #Appends arr2 onto arr\n",
    "arr = np.append(arr, [[6, 7, 8]])\n",
    "print(arr)\n",
    "\n"
   ]
  },
  {
   "cell_type": "code",
   "execution_count": 29,
   "metadata": {},
   "outputs": [
    {
     "name": "stdout",
     "output_type": "stream",
     "text": [
      "[[12 13 14 15]\n",
      " [16 17 18 19]\n",
      " [20 21 22 23]]\n",
      "Rows and columns of matrix:\n",
      "(3, 4)\n"
     ]
    }
   ],
   "source": [
    "#Ext 1: Write a NumPy program to find the number of rows and columns of a given matrix.\n",
    "\n",
    "import numpy as np\n",
    "\n",
    "matrix= np.arange(12,24).reshape((3, 4)) #3 rows and 4 columns\n",
    "print(matrix)\n",
    "print(\"Rows and columns of matrix:\")\n",
    "print(matrix.shape)"
   ]
  },
  {
   "cell_type": "code",
   "execution_count": 7,
   "metadata": {},
   "outputs": [
    {
     "name": "stdout",
     "output_type": "stream",
     "text": [
      "Even Integers from 30 to 70\n",
      "[30 32 34 36 38 40 42 44 46 48 50 52 54 56 58 60 62 64 66 68 70]\n"
     ]
    }
   ],
   "source": [
    "#2. Write a NumPy program to create an array of all the even integers from 30 to 70\n",
    "\n",
    "array=np.arange(30,71,2) # 30 to 70 in 2 increments\n",
    "\n",
    "print(\"Even Integers from 30 to 70\")\n",
    "print(array) "
   ]
  },
  {
   "cell_type": "code",
   "execution_count": 46,
   "metadata": {},
   "outputs": [
    {
     "name": "stdout",
     "output_type": "stream",
     "text": [
      "[1 2 3 4 5 6 7 8]\n",
      "Tuple to array: \n",
      "[[8 7 6]\n",
      " [5 4 3]]\n"
     ]
    }
   ],
   "source": [
    "#3. Write a NumPy program to convert a list and tuple into arrays.\n",
    "list = [1, 2, 3, 4, 5, 6, 7, 8]\n",
    "print(np.asarray(list))\n",
    "\n",
    "tuple = ([8, 7, 6], [5, 4, 3]) #Convert tubple to array\n",
    "print(\"Tuple to array: \")\n",
    "print(np.asarray(tuple))"
   ]
  },
  {
   "cell_type": "code",
   "execution_count": 66,
   "metadata": {},
   "outputs": [
    {
     "name": "stdout",
     "output_type": "stream",
     "text": [
      "Subtract:\n",
      "7\n",
      "Addition:\n",
      "17\n",
      "Multiplication:\n",
      "60\n",
      "Division:\n",
      "2.4\n"
     ]
    }
   ],
   "source": [
    "#1. Write a NumPy program to add, subtract, multiply, divide arguments element-wise\n",
    "print(\"Subtract:\")\n",
    "print(np.subtract(12,5))\n",
    "\n",
    "print(\"Addition:\")\n",
    "print(np.add(12,5))\n",
    "\n",
    "print(\"Multiplication:\")\n",
    "print(np.multiply(12,5))\n",
    "\n",
    "print(\"Division:\") \n",
    "print(np.divide(12,5))"
   ]
  },
  {
   "cell_type": "code",
   "execution_count": 83,
   "metadata": {},
   "outputs": [
    {
     "name": "stdout",
     "output_type": "stream",
     "text": [
      "[1. 2. 5. 5.]\n"
     ]
    }
   ],
   "source": [
    "#2. Write a NumPy program to round elements of the array to the nearest integer.\n",
    "\n",
    "array = [1.1,2.2,4.6,4.7]\n",
    "array = np.around(array,0) \n",
    "print(array)"
   ]
  },
  {
   "cell_type": "code",
   "execution_count": 90,
   "metadata": {},
   "outputs": [
    {
     "name": "stdout",
     "output_type": "stream",
     "text": [
      "[ 2.5  5.   7.5 10. ]\n"
     ]
    }
   ],
   "source": [
    "#3. Write a NumPy program to get true division of the element-wise array inputs.\n",
    "\n",
    "array = [10,20,30,40]\n",
    "print(np.true_divide(array,4))"
   ]
  },
  {
   "cell_type": "code",
   "execution_count": 52,
   "metadata": {},
   "outputs": [
    {
     "name": "stdout",
     "output_type": "stream",
     "text": [
      "First array:\n",
      "[[0.13702467 0.72270273 0.95431046]\n",
      " [0.43172761 0.04044322 0.49230668]\n",
      " [0.5878322  0.59572888 0.87013487]\n",
      " [0.61951756 0.12492983 0.92197838]\n",
      " [0.18799529 0.56604049 0.60190526]]\n",
      "Second array:\n",
      "[[0.14053515 0.85485871]\n",
      " [0.19872273 0.48865396]\n",
      " [0.89245224 0.53361804]]\n",
      "Dot product of two arrays:\n",
      "[[1.01455074 0.97952555]\n",
      " [0.50807008 0.65153257]\n",
      " [0.97754977 1.25793842]\n",
      " [0.93471205 1.08263173]\n",
      " [0.67607675 0.75849484]]\n"
     ]
    }
   ],
   "source": [
    "#1. Write a NumPy program to multiply a 5x3 matrix by a 3x2 matrix and create a real matrix product.\n",
    "import numpy as np\n",
    "x = np.random.random((5,3)) # creates 5x3 matrix filled with random floats\n",
    "print(\"First array:\")\n",
    "print(x)\n",
    "y = np.random.random((3,2)) # creates 3x2 matrix filled with random floats\n",
    "print(\"Second array:\")\n",
    "print(y)\n",
    "z = np.dot(x, y) # The \"Dot Product\" is where we multiply matching members, then sum up\n",
    "print(\"Dot product of two arrays:\")\n",
    "print(z)"
   ]
  },
  {
   "cell_type": "code",
   "execution_count": 56,
   "metadata": {},
   "outputs": [
    {
     "name": "stdout",
     "output_type": "stream",
     "text": [
      "Average of the array elements:\n",
      "-0.019495678424513586\n",
      "Standard deviation of the array elements:\n",
      "1.0032765370040198\n",
      "Variance of the array elements:\n",
      "1.006563809702778\n"
     ]
    }
   ],
   "source": [
    "#2. Write a NumPy program to create a random array with 1000 elements and compute the average, variance, standard deviation of the array elements.\n",
    "import numpy as np\n",
    "\n",
    "x = np.random.randn(100)\n",
    "print(\"Average of the array elements:\")\n",
    "\n",
    "mean = x.mean()\n",
    "print(mean)\n",
    "\n",
    "print(\"Standard deviation of the array elements:\")\n",
    "std = x.std()\n",
    "print(std)\n",
    "\n",
    "print(\"Variance of the array elements:\")\n",
    "var = x.var()\n",
    "print(var)"
   ]
  },
  {
   "cell_type": "code",
   "execution_count": 45,
   "metadata": {},
   "outputs": [
    {
     "name": "stdout",
     "output_type": "stream",
     "text": [
      "Array:\n",
      "[[ 0  1  2]\n",
      " [ 3  4  5]\n",
      " [ 6  7  8]\n",
      " [ 9 10 11]]\n",
      "Max Value of array:\n",
      "11\n",
      "Min Value of array:\n",
      "0\n"
     ]
    }
   ],
   "source": [
    "#4. Write a Python program to find the maximum and minimum value of 1D array.\n",
    "\n",
    "array = np.arange(12).reshape((4,3))\n",
    "print(\"Array:\")\n",
    "print(array)\n",
    "\n",
    "print(\"Max Value of array:\")\n",
    "print(np.amax(array))\n",
    "print(\"Min Value of array:\")\n",
    "print(np.amin(array))"
   ]
  }
 ],
 "metadata": {
  "kernelspec": {
   "display_name": "Python 3.10.5 64-bit",
   "language": "python",
   "name": "python3"
  },
  "language_info": {
   "codemirror_mode": {
    "name": "ipython",
    "version": 3
   },
   "file_extension": ".py",
   "mimetype": "text/x-python",
   "name": "python",
   "nbconvert_exporter": "python",
   "pygments_lexer": "ipython3",
   "version": "3.10.5"
  },
  "orig_nbformat": 4,
  "vscode": {
   "interpreter": {
    "hash": "d26ba34ef9bc98adcc21cc0ac6ec1b67004d8fc011bc618e09c05e4d9c21c598"
   }
  }
 },
 "nbformat": 4,
 "nbformat_minor": 2
}
