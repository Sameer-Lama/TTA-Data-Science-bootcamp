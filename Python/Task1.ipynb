{
 "cells": [
  {
   "cell_type": "code",
   "execution_count": 4,
   "metadata": {},
   "outputs": [
    {
     "name": "stdout",
     "output_type": "stream",
     "text": [
      "Your Favourite Meal is  Olives ,Lasagne\n"
     ]
    }
   ],
   "source": [
    "starter = \"Olives\"\n",
    "main = \"Lasagne\"\n",
    "dessert = \"Cheesecake\"\n",
    "drink = \"Fanta\"\n",
    "\n",
    "print('Your Favourite Meal is ',starter,',' + main)"
   ]
  },
  {
   "cell_type": "code",
   "execution_count": 10,
   "metadata": {},
   "outputs": [
    {
     "name": "stdout",
     "output_type": "stream",
     "text": [
      "7\n",
      "30\n",
      "3.3333333333333335\n"
     ]
    }
   ],
   "source": [
    "input1 = int(input(\"Type first number\"))\n",
    "input2 = int(input(\"Type second number\"))\n",
    "\n",
    "print(input1-input2)\n",
    "print(input1*input2)\n",
    "print(input1/input2)"
   ]
  },
  {
   "cell_type": "markdown",
   "metadata": {},
   "source": []
  },
  {
   "cell_type": "code",
   "execution_count": 45,
   "metadata": {},
   "outputs": [
    {
     "name": "stdout",
     "output_type": "stream",
     "text": [
      "What do you call a bear with no teeth\n",
      " A Gummy Bear!\n"
     ]
    }
   ],
   "source": [
    "Joke = (\"What do you call a bear with no teeth\\n A Gummy Bear!\")\n",
    "print(Joke)\n"
   ]
  },
  {
   "cell_type": "code",
   "execution_count": 7,
   "metadata": {},
   "outputs": [
    {
     "name": "stdout",
     "output_type": "stream",
     "text": [
      "25.0\n",
      "25\n",
      "25.0\n"
     ]
    }
   ],
   "source": [
    "num1 = float(input(\"Input number 1\"))\n",
    "num2 = float(input(\"Input number 2\"))\n",
    "\n",
    "print(num1*num2)\n",
    "print(int(num1*num2))\n",
    "print(float(num1*num2))\n"
   ]
  },
  {
   "cell_type": "code",
   "execution_count": 25,
   "metadata": {},
   "outputs": [
    {
     "name": "stdout",
     "output_type": "stream",
     "text": [
      "HELLO WORLD\n",
      "hHllo world\n",
      "['hell', ' w', 'rld']\n"
     ]
    }
   ],
   "source": [
    "line  = \"hello world\"\n",
    "\n",
    "print(line.upper())\n",
    "print(line.replace(\"e\",\"H\"))\n",
    "print(line.split(\"o\"))\n"
   ]
  },
  {
   "cell_type": "code",
   "execution_count": 33,
   "metadata": {},
   "outputs": [
    {
     "name": "stdout",
     "output_type": "stream",
     "text": [
      "Each person will pay 5.0\n"
     ]
    }
   ],
   "source": [
    "SumBill = int(input('What is the total price of a bill?'))\n",
    "Count= int(input('How many diners are there?'))\n",
    "Avg = (SumBill/Count)\n",
    "print('Each person will pay',Avg)"
   ]
  },
  {
   "cell_type": "code",
   "execution_count": 69,
   "metadata": {},
   "outputs": [
    {
     "data": {
      "text/plain": [
       "3141.593"
      ]
     },
     "execution_count": 69,
     "metadata": {},
     "output_type": "execute_result"
    }
   ],
   "source": [
    "import math as m\n",
    "\n",
    "Depth = float(input('What is the depth'))\n",
    "Rad = float(input('What is the Radius'))\n",
    "Rad2 = Rad*Rad\n",
    "TotVol = m.pi*Depth*Rad2\n",
    "round(TotVol,3)"
   ]
  },
  {
   "cell_type": "code",
   "execution_count": null,
   "metadata": {},
   "outputs": [],
   "source": []
  }
 ],
 "metadata": {
  "interpreter": {
   "hash": "d26ba34ef9bc98adcc21cc0ac6ec1b67004d8fc011bc618e09c05e4d9c21c598"
  },
  "kernelspec": {
   "display_name": "Python 3.10.5 64-bit",
   "language": "python",
   "name": "python3"
  },
  "language_info": {
   "codemirror_mode": {
    "name": "ipython",
    "version": 3
   },
   "file_extension": ".py",
   "mimetype": "text/x-python",
   "name": "python",
   "nbconvert_exporter": "python",
   "pygments_lexer": "ipython3",
   "version": "3.10.5"
  },
  "orig_nbformat": 4
 },
 "nbformat": 4,
 "nbformat_minor": 2
}
